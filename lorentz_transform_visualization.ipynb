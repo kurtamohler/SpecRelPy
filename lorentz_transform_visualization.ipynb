{
 "cells": [
  {
   "cell_type": "code",
   "execution_count": null,
   "metadata": {},
   "outputs": [],
   "source": [
    "import numpy as np\n",
    "import panel as pn\n",
    "import plotly.graph_objs as go\n",
    "\n",
    "pn.extension('plotly')"
   ]
  },
  {
   "cell_type": "code",
   "execution_count": null,
   "metadata": {},
   "outputs": [],
   "source": [
    "def plot_spacetime_surface(x_grid, y_grid, t_grid):\n",
    "    surface = go.Surface(x=x_grid, y=y_grid, z=t_grid)\n",
    "    layout = go.Layout(\n",
    "        title='Lorentz transform of a 2-D square',\n",
    "        autosize=False,\n",
    "        width=600,\n",
    "        height=500,\n",
    "        margin=dict(t=50, b=50, r=50, l=50),\n",
    "        scene_camera=dict(eye=dict(x=1.5, y=1.5, z=1)),\n",
    "        scene = dict(\n",
    "            xaxis = dict(nticks=8, range=[-10,10],),\n",
    "            yaxis = dict(nticks=8, range=[-10,10],),\n",
    "            zaxis = dict(nticks=8, range=[-5e-8,5e-8],),\n",
    "            aspectratio = dict(x=1, y=1, z=1)\n",
    "        ),\n",
    "    )\n",
    "    fig = dict(data=[surface], layout=layout)\n",
    "    plotly_pane = pn.pane.Plotly(fig)\n",
    "    return plotly_pane"
   ]
  },
  {
   "cell_type": "code",
   "execution_count": null,
   "metadata": {},
   "outputs": [],
   "source": [
    "xx = np.linspace(-1, 1, 2)\n",
    "yy = np.linspace(-1, 1, 2)\n",
    "x, y = np.meshgrid(xx, yy)\n",
    "t = np.zeros((2, 2))"
   ]
  },
  {
   "cell_type": "code",
   "execution_count": null,
   "metadata": {},
   "outputs": [],
   "source": [
    "from lorentz_transform import lorentz_transform\n",
    "\n",
    "\n",
    "def plot_transformed_spacetime_surface(velocity_magnitude=0.0, velocity_angle=0.0):\n",
    "    velocity = velocity_magnitude * np.array([\n",
    "        np.cos(velocity_angle),\n",
    "        np.sin(velocity_angle)\n",
    "    ])\n",
    "    \n",
    "    positions = np.stack([x, y], axis=-1)\n",
    "    pos_transformed, t_transformed = lorentz_transform(\n",
    "        positions,\n",
    "        t,\n",
    "        velocity,\n",
    "        speed_of_light=300_000_000\n",
    "\n",
    "    )\n",
    "    x_transformed = pos_transformed[:,:,0].squeeze()\n",
    "    y_transformed = pos_transformed[:,:,1].squeeze()\n",
    "    \n",
    "    return plot_spacetime_surface(x_transformed, y_transformed, t_transformed)"
   ]
  },
  {
   "cell_type": "code",
   "execution_count": null,
   "metadata": {},
   "outputs": [],
   "source": [
    "import panel.widgets as pnw\n",
    "\n",
    "#velocity_magnitude  = pnw.FloatSlider(name='velocity_magnitude', value=0, start=0, end=0.99, step=0.05)\n",
    "velocity_magnitude  = pnw.FloatSlider(name='velocity_magnitude', value=0, start=0, end=298_000_000, step=100_000)\n",
    "velocity_angle  = pnw.FloatSlider(name='velocity_angle', value=0, start=0, end=2*np.pi)\n",
    "\n",
    "\n",
    "@pn.depends(velocity_magnitude, velocity_angle)\n",
    "def reactive_plot_transformed_spacetime_surface(velocity_magnitude, velocity_angle):\n",
    "    return plot_transformed_spacetime_surface(velocity_magnitude, velocity_angle)\n",
    "\n",
    "widgets   = pn.Column(velocity_magnitude, velocity_angle)\n",
    "transformed_plot = pn.Row(reactive_plot_transformed_spacetime_surface, widgets)\n",
    "transformed_plot"
   ]
  }
 ],
 "metadata": {
  "kernelspec": {
   "display_name": "Python 3",
   "language": "python",
   "name": "python3"
  },
  "language_info": {
   "codemirror_mode": {
    "name": "ipython",
    "version": 3
   },
   "file_extension": ".py",
   "mimetype": "text/x-python",
   "name": "python",
   "nbconvert_exporter": "python",
   "pygments_lexer": "ipython3",
   "version": "3.7.4"
  }
 },
 "nbformat": 4,
 "nbformat_minor": 4
}
